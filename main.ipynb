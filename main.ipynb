{
 "cells": [
  {
   "cell_type": "code",
   "execution_count": 26,
   "metadata": {},
   "outputs": [],
   "source": [
    "# Read Fashion MNIST dataset\n",
    "\n",
    "import util_mnist_reader\n",
    "X_train, Y_train = util_mnist_reader.load_mnist('data/fashion', kind='train')\n",
    "X_test, Y_test = util_mnist_reader.load_mnist('data/fashion', kind='t10k')\n",
    "\n",
    "# Your code goes here . . ."
   ]
  },
  {
   "cell_type": "code",
   "execution_count": 27,
   "metadata": {},
   "outputs": [],
   "source": [
    "#part 1 - Training using Neural Network with One Hidden Layer\n",
    "\n",
    "import numpy as np\n",
    "import matplotlib\n",
    "import matplotlib.pyplot as plt\n",
    "%matplotlib inline\n",
    "from sklearn.metrics import classification_report\n",
    "from sklearn.metrics import confusion_matrix\n",
    "\n",
    "\n"
   ]
  },
  {
   "cell_type": "code",
   "execution_count": 28,
   "metadata": {},
   "outputs": [
    {
     "name": "stdout",
     "output_type": "stream",
     "text": [
      "X_train shape :  (60000, 784)\n",
      "X_test shape :  (10000, 784)\n",
      "Y_train shape :  (60000,)\n",
      "Y_test shape :  (10000,)\n"
     ]
    }
   ],
   "source": [
    "print('X_train shape : ', X_train.shape)\n",
    "print('X_test shape : ', X_test.shape)\n",
    "print('Y_train shape : ', Y_train.shape)\n",
    "print('Y_test shape : ', Y_test.shape)"
   ]
  },
  {
   "cell_type": "code",
   "execution_count": 29,
   "metadata": {},
   "outputs": [],
   "source": [
    "#normalizing training data\n",
    "X_train = X_train/255"
   ]
  },
  {
   "cell_type": "code",
   "execution_count": 30,
   "metadata": {},
   "outputs": [],
   "source": [
    "#normalizing test data\n",
    "X_test = X_test/255"
   ]
  },
  {
   "cell_type": "code",
   "execution_count": 31,
   "metadata": {},
   "outputs": [
    {
     "name": "stdout",
     "output_type": "stream",
     "text": [
      "X_train shape :  (784, 60000)\n",
      "X_test shape :  (784, 10000)\n"
     ]
    }
   ],
   "source": [
    "X_train = X_train.T\n",
    "X_test = X_test.T\n",
    "print('X_train shape : ', X_train.shape)\n",
    "print('X_test shape : ', X_test.shape)"
   ]
  },
  {
   "cell_type": "code",
   "execution_count": 32,
   "metadata": {},
   "outputs": [],
   "source": [
    "outputLayerNodes = 10"
   ]
  },
  {
   "cell_type": "code",
   "execution_count": 33,
   "metadata": {},
   "outputs": [
    {
     "name": "stdout",
     "output_type": "stream",
     "text": [
      "Y_train shape :  (1, 60000)\n",
      "Y_test shape :  (1, 10000)\n"
     ]
    }
   ],
   "source": [
    "Y_train = Y_train.reshape(1,Y_train.shape[0])\n",
    "Y_test = Y_test.reshape(1,Y_test.shape[0])\n",
    "print('Y_train shape : ', Y_train.shape)\n",
    "print('Y_test shape : ', Y_test.shape)"
   ]
  },
  {
   "cell_type": "code",
   "execution_count": 34,
   "metadata": {},
   "outputs": [
    {
     "name": "stdout",
     "output_type": "stream",
     "text": [
      "Y_train_new shape :  (1, 60000, 10)\n",
      "Y_test_new shape :  (1, 10000, 10)\n"
     ]
    }
   ],
   "source": [
    "Y_train_new = np.eye(outputLayerNodes)[Y_train.astype('int32')]\n",
    "Y_test_new = np.eye(outputLayerNodes)[Y_test.astype('int32')]\n",
    "print('Y_train_new shape : ', Y_train_new.shape)\n",
    "print('Y_test_new shape : ', Y_test_new.shape)"
   ]
  },
  {
   "cell_type": "code",
   "execution_count": 35,
   "metadata": {},
   "outputs": [
    {
     "name": "stdout",
     "output_type": "stream",
     "text": [
      "Y_train_new shape :  (10, 60000)\n",
      "Y_test_new shape :  (10, 10000)\n"
     ]
    }
   ],
   "source": [
    "Y_train_new = Y_train_new.T.reshape(outputLayerNodes, Y_train.shape[1])\n",
    "Y_test_new = Y_test_new.T.reshape(outputLayerNodes, Y_test.shape[1])\n",
    "print('Y_train_new shape : ', Y_train_new.shape)\n",
    "print('Y_test_new shape : ', Y_test_new.shape)"
   ]
  },
  {
   "cell_type": "code",
   "execution_count": 36,
   "metadata": {},
   "outputs": [],
   "source": [
    "Y_train = Y_train_new\n",
    "Y_test = Y_test_new"
   ]
  },
  {
   "cell_type": "code",
   "execution_count": 37,
   "metadata": {},
   "outputs": [
    {
     "name": "stdout",
     "output_type": "stream",
     "text": [
      "X_train shape :  (784, 60000)\n",
      "X_test shape :  (784, 10000)\n",
      "Y_train shape :  (10, 60000)\n",
      "Y_test shape :  (10, 10000)\n"
     ]
    }
   ],
   "source": [
    "print('X_train shape : ', X_train.shape)\n",
    "print('X_test shape : ', X_test.shape)\n",
    "print('Y_train shape : ', Y_train.shape)\n",
    "print('Y_test shape : ', Y_test.shape)"
   ]
  },
  {
   "cell_type": "code",
   "execution_count": 38,
   "metadata": {},
   "outputs": [],
   "source": [
    "shuffle_index = np.random.permutation(X_train.shape[1])\n",
    "X_train, Y_train = X_train[:, shuffle_index], Y_train[:, shuffle_index]"
   ]
  },
  {
   "cell_type": "code",
   "execution_count": 39,
   "metadata": {},
   "outputs": [
    {
     "name": "stdout",
     "output_type": "stream",
     "text": [
      "X_train shape :  (784, 60000)\n",
      "X_test shape :  (784, 10000)\n",
      "Y_train shape :  (10, 60000)\n",
      "Y_test shape :  (10, 10000)\n"
     ]
    }
   ],
   "source": [
    "print('X_train shape : ', X_train.shape)\n",
    "print('X_test shape : ', X_test.shape)\n",
    "print('Y_train shape : ', Y_train.shape)\n",
    "print('Y_test shape : ', Y_test.shape)"
   ]
  },
  {
   "cell_type": "code",
   "execution_count": 40,
   "metadata": {},
   "outputs": [
    {
     "data": {
      "image/png": "[encoded data removed]",
      "text/plain": [
       "<Figure size 432x288 with 1 Axes>"
      ]
     },
     "metadata": {},
     "output_type": "display_data"
    },
    {
     "name": "stdout",
     "output_type": "stream",
     "text": [
      "[0. 0. 0. 0. 0. 0. 0. 1. 0. 0.]\n"
     ]
    }
   ],
   "source": [
    "i = 12\n",
    "plt.imshow(X_train[:,i].reshape(28,28), cmap = matplotlib.cm.binary)\n",
    "plt.axis(\"off\")\n",
    "plt.show()\n",
    "print(Y_train[:,i])"
   ]
  },
  {
   "cell_type": "code",
   "execution_count": 41,
   "metadata": {},
   "outputs": [],
   "source": [
    "def sigmoid(z):\n",
    "    s = 1 / (1 + np.exp(-z))\n",
    "    return s"
   ]
  },
  {
   "cell_type": "code",
   "execution_count": 42,
   "metadata": {},
   "outputs": [],
   "source": [
    "def compute_multiclass_loss(Y, Y_cap):\n",
    "    Loss_sum = np.sum(np.multiply(Y, np.log(Y_cap)))\n",
    "    m = Y.shape[1]\n",
    "    Loss = -(1/m) * Loss_sum\n",
    "    return Loss"
   ]
  },
  {
   "cell_type": "code",
   "execution_count": 43,
   "metadata": {},
   "outputs": [
    {
     "name": "stdout",
     "output_type": "stream",
     "text": [
      "input_nodes :  784\n"
     ]
    }
   ],
   "source": [
    "input_nodes = X_train.shape[0]\n",
    "hidden_nodes = 64\n",
    "learning_rate = 0.5\n",
    "\n",
    "print('input_nodes : ', input_nodes)"
   ]
  },
  {
   "cell_type": "code",
   "execution_count": 44,
   "metadata": {},
   "outputs": [],
   "source": [
    "W1 = np.random.randn(hidden_nodes, input_nodes)\n",
    "b1 = np.zeros((hidden_nodes, 1))\n",
    "W2 = np.random.randn(outputLayerNodes, hidden_nodes)\n",
    "b2 = np.zeros((outputLayerNodes, 1))"
   ]
  },
  {
   "cell_type": "code",
   "execution_count": 45,
   "metadata": {},
   "outputs": [
    {
     "name": "stdout",
     "output_type": "stream",
     "text": [
      "W1 shape :  (64, 784)\n",
      "b1 shape :  (64, 1)\n",
      "W2 shape :  (10, 64)\n",
      "b2 shape :  (10, 1)\n"
     ]
    }
   ],
   "source": [
    "print('W1 shape : ', W1.shape)\n",
    "print('b1 shape : ', b1.shape)\n",
    "print('W2 shape : ', W2.shape)\n",
    "print('b2 shape : ', b2.shape)"
   ]
  },
  {
   "cell_type": "code",
   "execution_count": 46,
   "metadata": {},
   "outputs": [
    {
     "name": "stdout",
     "output_type": "stream",
     "text": [
      "m :  60000\n"
     ]
    }
   ],
   "source": [
    "losstrack = []\n",
    "epoch = 1000\n",
    "m = X_train.shape[1]\n",
    "print('m : ',m)"
   ]
  },
  {
   "cell_type": "code",
   "execution_count": 47,
   "metadata": {},
   "outputs": [
    {
     "name": "stdout",
     "output_type": "stream",
     "text": [
      "Epoch :  0 cost :  8.049371263567052\n",
      "Epoch :  100 cost :  0.9342606814638517\n",
      "Epoch :  200 cost :  0.7912896525158679\n",
      "Epoch :  300 cost :  0.7289832595932996\n",
      "Epoch :  400 cost :  0.6900511732006089\n",
      "Epoch :  500 cost :  0.6619154970994269\n",
      "Epoch :  600 cost :  0.6403056471853519\n",
      "Epoch :  700 cost :  0.6228734587935322\n",
      "Epoch :  800 cost :  0.608273232005863\n",
      "Epoch :  900 cost :  0.5957325064573233\n",
      "Final cost :  0.5848607414342417\n"
     ]
    }
   ],
   "source": [
    "for i in range(epoch):\n",
    "\n",
    "    Z1 = np.matmul(W1, X_train) + b1\n",
    "    A1 = sigmoid(Z1)\n",
    "    Z2 = np.matmul(W2, A1) + b2\n",
    "    A2 = np.exp(Z2) / np.sum(np.exp(Z2), axis = 0)\n",
    "\n",
    "    cost = compute_multiclass_loss(Y_train, A2)\n",
    "    losstrack.append(np.squeeze(cost))\n",
    "\n",
    "    dZ2 = A2 - Y_train\n",
    "    dW2 = (1./m) * np.matmul(dZ2, A1.T)\n",
    "    db2 = (1./m) * np.sum(dZ2, axis = 1, keepdims = True)\n",
    "\n",
    "    dA1 = np.matmul(W2.T, dZ2)\n",
    "    dZ1 = dA1 * sigmoid(Z1) * (1 - sigmoid(Z1))\n",
    "    dW1 = (1./m) * np.matmul(dZ1, X_train.T)\n",
    "    db1 = (1./m) * np.sum(dZ1, axis = 1, keepdims = True)\n",
    "\n",
    "    W2 = W2 - learning_rate * dW2\n",
    "    b2 = b2 - learning_rate * db2\n",
    "    W1 = W1 - learning_rate * dW1\n",
    "    b1 = b1 - learning_rate * db1\n",
    "\n",
    "    if (i % 100 == 0):\n",
    "        print('Epoch : ', i, 'cost : ', cost)\n",
    "\n",
    "print('Final cost : ', cost)"
   ]
  },
  {
   "cell_type": "code",
   "execution_count": 48,
   "metadata": {},
   "outputs": [
    {
     "data": {
      "image/png": "[encoded data removed]",
      "text/plain": [
       "<Figure size 432x288 with 1 Axes>"
      ]
     },
     "metadata": {},
     "output_type": "display_data"
    }
   ],
   "source": [
    "plt.plot(losstrack)\n",
    "plt.plot(cost, label = \"training_loss\")\n",
    "plt.xlabel('Iterations', fontweight = \"bold\", fontsize = 12)\n",
    "plt.ylabel('Loss', fontweight = \"bold\", fontsize = 12)\n",
    "plt.title(\"Cost Function\", fontweight = \"bold\", fontsize = 16)\n",
    "plt.legend()\n",
    "plt.show()"
   ]
  },
  {
   "cell_type": "code",
   "execution_count": 49,
   "metadata": {},
   "outputs": [],
   "source": [
    "Z1 = np.matmul(W1, X_test) + b1\n",
    "A1 = sigmoid(Z1)\n",
    "Z2 = np.matmul(W2, A1) + b2\n",
    "A2 = np.exp(Z2) / np.sum(np.exp(Z2), axis = 0)"
   ]
  },
  {
   "cell_type": "code",
   "execution_count": 50,
   "metadata": {},
   "outputs": [],
   "source": [
    "predictions = np.argmax(A2, axis = 0)\n",
    "labels = np.argmax(Y_test, axis = 0)"
   ]
  },
  {
   "cell_type": "code",
   "execution_count": 51,
   "metadata": {},
   "outputs": [
    {
     "name": "stdout",
     "output_type": "stream",
     "text": [
      "[[772   6  25  42   6   2 187   0   8   0]\n",
      " [  6 921   1  23   3   0   6   0   0   0]\n",
      " [ 20  15 663  12 150   1 164   0  24   0]\n",
      " [ 73  41  10 805  33   2  45   0  13   1]\n",
      " [  6   6 176  38 686   0 147   0   7   1]\n",
      " [  5   0   0   2   1 852   3  61  20  25]\n",
      " [ 99   9 112  68 113   1 417   0  15   0]\n",
      " [  0   0   0   0   0  84   0 854  12  50]\n",
      " [ 19   2  13  10   8  22  31   4 899   0]\n",
      " [  0   0   0   0   0  36   0  81   2 923]]\n",
      "              precision    recall  f1-score   support\n",
      "\n",
      "           0       0.77      0.74      0.75      1048\n",
      "           1       0.92      0.96      0.94       960\n",
      "           2       0.66      0.63      0.65      1049\n",
      "           3       0.81      0.79      0.80      1023\n",
      "           4       0.69      0.64      0.66      1067\n",
      "           5       0.85      0.88      0.87       969\n",
      "           6       0.42      0.50      0.45       834\n",
      "           7       0.85      0.85      0.85      1000\n",
      "           8       0.90      0.89      0.90      1008\n",
      "           9       0.92      0.89      0.90      1042\n",
      "\n",
      "    accuracy                           0.78     10000\n",
      "   macro avg       0.78      0.78      0.78     10000\n",
      "weighted avg       0.78      0.78      0.78     10000\n",
      "\n"
     ]
    }
   ],
   "source": [
    "print(confusion_matrix(predictions, labels))\n",
    "print(classification_report(predictions, labels))"
   ]
  },
  {
   "cell_type": "code",
   "execution_count": 52,
   "metadata": {},
   "outputs": [
    {
     "name": "stderr",
     "output_type": "stream",
     "text": [
      "C:\\Users\\rasita\\Anaconda3\\lib\\site-packages\\h5py\\__init__.py:36: FutureWarning: Conversion of the second argument of issubdtype from `float` to `np.floating` is deprecated. In future, it will be treated as `np.float64 == np.dtype(float).type`.\n",
      "  from ._conv import register_converters as _register_converters\n",
      "Using TensorFlow backend.\n"
     ]
    }
   ],
   "source": [
    "#part 2 - Training using Multi-Layer Neural Network\n",
    "\n",
    "import keras\n",
    "import tensorflow as tf\n",
    "from keras.datasets import fashion_mnist\n",
    "from keras.layers import Dense, Activation, Flatten, Conv2D, MaxPooling2D\n",
    "from keras.models import Sequential\n",
    "from keras.utils import to_categorical\n",
    "import numpy as np\n",
    "import matplotlib.pyplot as plt\n",
    "from keras import backend\n",
    "from sklearn.metrics import confusion_matrix\n",
    "from sklearn.metrics import classification_report\n",
    "from sklearn.metrics import average_precision_score\n",
    "\n",
    "\n"
   ]
  },
  {
   "cell_type": "code",
   "execution_count": 53,
   "metadata": {},
   "outputs": [],
   "source": [
    "fashion_mnist = tf.keras.datasets.fashion_mnist\n",
    "(x_train, y_train), (x_test, y_test) = fashion_mnist.load_data()"
   ]
  },
  {
   "cell_type": "code",
   "execution_count": 54,
   "metadata": {},
   "outputs": [],
   "source": [
    "x_train = x_train / 255.0 \n",
    "x_test = x_test / 255.0"
   ]
  },
  {
   "cell_type": "code",
   "execution_count": 55,
   "metadata": {},
   "outputs": [
    {
     "name": "stdout",
     "output_type": "stream",
     "text": [
      "x_train shape :  (60000, 28, 28)\n",
      "x_test shape :  (10000, 28, 28)\n",
      "y_train shape :  (60000,)\n",
      "y_test shape :  (10000,)\n"
     ]
    }
   ],
   "source": [
    "print('x_train shape : ', x_train.shape)\n",
    "print('x_test shape : ', x_test.shape)\n",
    "print('y_train shape : ', y_train.shape)\n",
    "print('y_test shape : ', y_test.shape)"
   ]
  },
  {
   "cell_type": "code",
   "execution_count": 56,
   "metadata": {},
   "outputs": [],
   "source": [
    "model = tf.keras.models.Sequential([\n",
    "                              tf.keras.layers.Flatten(),\n",
    "                              tf.keras.layers.Dense(512, activation = tf.nn.tanh),\n",
    "                              tf.keras.layers.Dropout(0.2),\n",
    "                              tf.keras.layers.Dense(10, activation = tf.nn.softmax)\n",
    "                            ])"
   ]
  },
  {
   "cell_type": "code",
   "execution_count": 57,
   "metadata": {},
   "outputs": [],
   "source": [
    "model.compile(optimizer = 'adam',\n",
    "              loss = 'sparse_categorical_crossentropy',\n",
    "              metrics = ['accuracy'])"
   ]
  },
  {
   "cell_type": "code",
   "execution_count": 58,
   "metadata": {},
   "outputs": [
    {
     "name": "stdout",
     "output_type": "stream",
     "text": [
      "Train on 60000 samples\n",
      "Epoch 1/30\n",
      "60000/60000 [==============================] - 15s 245us/sample - loss: 0.5126 - accuracy: 0.8162\n",
      "Epoch 2/30\n",
      "60000/60000 [==============================] - 13s 223us/sample - loss: 0.4189 - accuracy: 0.8470\n",
      "Epoch 3/30\n",
      "60000/60000 [==============================] - 13s 211us/sample - loss: 0.3875 - accuracy: 0.8599\n",
      "Epoch 4/30\n",
      "60000/60000 [==============================] - 13s 218us/sample - loss: 0.3640 - accuracy: 0.8654\n",
      "Epoch 5/30\n",
      "60000/60000 [==============================] - 14s 234us/sample - loss: 0.3500 - accuracy: 0.8728\n",
      "Epoch 6/30\n",
      "60000/60000 [==============================] - 13s 219us/sample - loss: 0.3365 - accuracy: 0.8753\n",
      "Epoch 7/30\n",
      "60000/60000 [==============================] - 13s 221us/sample - loss: 0.3336 - accuracy: 0.8780\n",
      "Epoch 8/30\n",
      "60000/60000 [==============================] - 13s 219us/sample - loss: 0.3223 - accuracy: 0.8818\n",
      "Epoch 9/30\n",
      "60000/60000 [==============================] - 14s 228us/sample - loss: 0.3149 - accuracy: 0.8837\n",
      "Epoch 10/30\n",
      "60000/60000 [==============================] - 14s 226us/sample - loss: 0.3120 - accuracy: 0.8835\n",
      "Epoch 11/30\n",
      "60000/60000 [==============================] - 14s 227us/sample - loss: 0.3075 - accuracy: 0.8861\n",
      "Epoch 12/30\n",
      "60000/60000 [==============================] - 14s 227us/sample - loss: 0.3057 - accuracy: 0.8866\n",
      "Epoch 13/30\n",
      "60000/60000 [==============================] - 14s 227us/sample - loss: 0.2947 - accuracy: 0.8906\n",
      "Epoch 14/30\n",
      "60000/60000 [==============================] - 13s 224us/sample - loss: 0.2972 - accuracy: 0.8905\n",
      "Epoch 15/30\n",
      "60000/60000 [==============================] - 14s 228us/sample - loss: 0.2875 - accuracy: 0.8932\n",
      "Epoch 16/30\n",
      "60000/60000 [==============================] - 14s 234us/sample - loss: 0.2838 - accuracy: 0.8947\n",
      "Epoch 17/30\n",
      "60000/60000 [==============================] - 14s 233us/sample - loss: 0.2813 - accuracy: 0.8956\n",
      "Epoch 18/30\n",
      "60000/60000 [==============================] - 13s 213us/sample - loss: 0.2801 - accuracy: 0.8958\n",
      "Epoch 19/30\n",
      "60000/60000 [==============================] - 16s 264us/sample - loss: 0.2751 - accuracy: 0.8981\n",
      "Epoch 20/30\n",
      "60000/60000 [==============================] - 22s 365us/sample - loss: 0.2738 - accuracy: 0.8995\n",
      "Epoch 21/30\n",
      "60000/60000 [==============================] - 17s 281us/sample - loss: 0.2703 - accuracy: 0.9003\n",
      "Epoch 22/30\n",
      "60000/60000 [==============================] - 15s 252us/sample - loss: 0.2669 - accuracy: 0.9013\n",
      "Epoch 23/30\n",
      "60000/60000 [==============================] - 15s 254us/sample - loss: 0.2630 - accuracy: 0.9020\n",
      "Epoch 24/30\n",
      "60000/60000 [==============================] - 15s 252us/sample - loss: 0.2641 - accuracy: 0.9016\n",
      "Epoch 25/30\n",
      "60000/60000 [==============================] - 14s 227us/sample - loss: 0.2657 - accuracy: 0.9020\n",
      "Epoch 26/30\n",
      "60000/60000 [==============================] - 16s 265us/sample - loss: 0.2592 - accuracy: 0.9044\n",
      "Epoch 27/30\n",
      "60000/60000 [==============================] - 16s 265us/sample - loss: 0.2565 - accuracy: 0.9046\n",
      "Epoch 28/30\n",
      "60000/60000 [==============================] - 20s 341us/sample - loss: 0.2509 - accuracy: 0.9076\n",
      "Epoch 29/30\n",
      "60000/60000 [==============================] - 18s 295us/sample - loss: 0.2559 - accuracy: 0.9064\n",
      "Epoch 30/30\n",
      "60000/60000 [==============================] - 15s 255us/sample - loss: 0.2468 - accuracy: 0.9086\n"
     ]
    }
   ],
   "source": [
    "iterations = model.fit(x_train, y_train, epochs = 30)"
   ]
  },
  {
   "cell_type": "code",
   "execution_count": 65,
   "metadata": {},
   "outputs": [
    {
     "data": {
      "image/png": "[encoded data removed]",
      "text/plain": [
       "<Figure size 432x288 with 1 Axes>"
      ]
     },
     "metadata": {},
     "output_type": "display_data"
    }
   ],
   "source": [
    "plt.plot(iterations.history['loss'])\n",
    "plt.xlabel('Iterations', fontweight = \"bold\", fontsize = 12)\n",
    "plt.ylabel('Loss', fontweight = \"bold\", fontsize = 12)\n",
    "plt.title(\"Cost Function\", fontweight = \"bold\", fontsize = 16)\n",
    "plt.show()"
   ]
  },
  {
   "cell_type": "code",
   "execution_count": 66,
   "metadata": {},
   "outputs": [],
   "source": [
    "test_predictions = model.predict(x_test)"
   ]
  },
  {
   "cell_type": "code",
   "execution_count": 67,
   "metadata": {},
   "outputs": [],
   "source": [
    "test_predictions = model.predict_classes(x_test)"
   ]
  },
  {
   "cell_type": "code",
   "execution_count": 68,
   "metadata": {},
   "outputs": [
    {
     "name": "stdout",
     "output_type": "stream",
     "text": [
      "[[793   1  31  19   3   1 147   0   5   0]\n",
      " [  1 974   3  13   3   0   5   0   1   0]\n",
      " [ 12   0 896   9  27   0  56   0   0   0]\n",
      " [ 20   6  21 883  38   0  30   0   2   0]\n",
      " [  0   1 246  19 665   0  67   0   2   0]\n",
      " [  0   0   0   1   0 965   0  23   0  11]\n",
      " [ 90   0 122  25  41   0 715   0   7   0]\n",
      " [  0   0   0   0   0  18   0 968   0  14]\n",
      " [  4   0  20   1   2   3   6   2 962   0]\n",
      " [  0   0   0   0   0  14   1  38   0 947]]\n"
     ]
    }
   ],
   "source": [
    "conf_mat = confusion_matrix(y_true = y_test, y_pred = test_predictions)\n",
    "print(conf_mat)"
   ]
  },
  {
   "cell_type": "code",
   "execution_count": 69,
   "metadata": {},
   "outputs": [
    {
     "name": "stdout",
     "output_type": "stream",
     "text": [
      "              precision    recall  f1-score   support\n",
      "\n",
      "           0       0.86      0.79      0.83      1000\n",
      "           1       0.99      0.97      0.98      1000\n",
      "           2       0.67      0.90      0.77      1000\n",
      "           3       0.91      0.88      0.90      1000\n",
      "           4       0.85      0.67      0.75      1000\n",
      "           5       0.96      0.96      0.96      1000\n",
      "           6       0.70      0.71      0.71      1000\n",
      "           7       0.94      0.97      0.95      1000\n",
      "           8       0.98      0.96      0.97      1000\n",
      "           9       0.97      0.95      0.96      1000\n",
      "\n",
      "    accuracy                           0.88     10000\n",
      "   macro avg       0.88      0.88      0.88     10000\n",
      "weighted avg       0.88      0.88      0.88     10000\n",
      "\n"
     ]
    }
   ],
   "source": [
    "print(classification_report(y_true = y_test, y_pred = test_predictions))"
   ]
  },
  {
   "cell_type": "code",
   "execution_count": 70,
   "metadata": {},
   "outputs": [],
   "source": [
    "#part 3 - Training using Convolution Neural Network\n",
    "\n",
    "import keras\n",
    "from keras.datasets import fashion_mnist\n",
    "from keras.layers import Dense, Activation, Flatten, Conv2D, MaxPooling2D\n",
    "from keras.models import Sequential\n",
    "from keras.utils import to_categorical\n",
    "import numpy as np\n",
    "import matplotlib.pyplot as plt\n",
    "from sklearn.multiclass import OneVsRestClassifier\n",
    "from sklearn.metrics import classification_report\n",
    "from sklearn.metrics import average_precision_score\n",
    "from sklearn import preprocessing\n",
    "from sklearn.model_selection import train_test_split\n",
    "from sklearn.metrics import confusion_matrix"
   ]
  },
  {
   "cell_type": "code",
   "execution_count": 72,
   "metadata": {},
   "outputs": [],
   "source": [
    "(X_train,Y_train), (X_test,Y_test) = fashion_mnist.load_data()"
   ]
  },
  {
   "cell_type": "code",
   "execution_count": 73,
   "metadata": {},
   "outputs": [
    {
     "name": "stdout",
     "output_type": "stream",
     "text": [
      "X_train shape :  (60000, 28, 28, 1)\n",
      "X_test shape :  (10000, 28, 28, 1)\n"
     ]
    }
   ],
   "source": [
    "X_train = X_train.reshape(-1, 28,28, 1)\n",
    "X_test = X_test.reshape(-1, 28,28, 1)\n",
    "print('X_train shape : ', X_train.shape)\n",
    "print('X_test shape : ', X_test.shape)"
   ]
  },
  {
   "cell_type": "code",
   "execution_count": 74,
   "metadata": {},
   "outputs": [
    {
     "name": "stdout",
     "output_type": "stream",
     "text": [
      "X_train shape :  (60000, 28, 28, 1)\n",
      "X_test shape :  (10000, 28, 28, 1)\n"
     ]
    }
   ],
   "source": [
    "X_train = X_train.astype('float32')\n",
    "X_test = X_test.astype('float32')\n",
    "print('X_train shape : ', X_train.shape)\n",
    "print('X_test shape : ', X_test.shape)"
   ]
  },
  {
   "cell_type": "code",
   "execution_count": 75,
   "metadata": {},
   "outputs": [],
   "source": [
    "X_train = X_train / 255\n",
    "X_test = X_test / 255"
   ]
  },
  {
   "cell_type": "code",
   "execution_count": 76,
   "metadata": {},
   "outputs": [],
   "source": [
    "Y_train_one_hot = to_categorical(Y_train)\n",
    "Y_test_one_hot = to_categorical(Y_test)"
   ]
  },
  {
   "cell_type": "code",
   "execution_count": 77,
   "metadata": {},
   "outputs": [],
   "source": [
    "model = Sequential()"
   ]
  },
  {
   "cell_type": "code",
   "execution_count": 78,
   "metadata": {},
   "outputs": [],
   "source": [
    "model.add(Conv2D(64, (3,3), input_shape = (28, 28, 1)))\n",
    "model.add(Activation('relu'))\n",
    "model.add(MaxPooling2D(pool_size = (2,2)))"
   ]
  },
  {
   "cell_type": "code",
   "execution_count": 79,
   "metadata": {},
   "outputs": [],
   "source": [
    "model.add(Conv2D(64, (3,3)))\n",
    "model.add(Activation('relu'))\n",
    "model.add(MaxPooling2D(pool_size = (2,2)))"
   ]
  },
  {
   "cell_type": "code",
   "execution_count": 80,
   "metadata": {},
   "outputs": [],
   "source": [
    "model.add(Flatten())\n",
    "model.add(Dense(64))"
   ]
  },
  {
   "cell_type": "code",
   "execution_count": 81,
   "metadata": {},
   "outputs": [],
   "source": [
    "model.add(Dense(10))\n",
    "model.add(Activation('softmax'))"
   ]
  },
  {
   "cell_type": "code",
   "execution_count": 82,
   "metadata": {},
   "outputs": [],
   "source": [
    "model.compile(loss = keras.losses.categorical_crossentropy, \n",
    "              optimizer = keras.optimizers.Adam(),\n",
    "              metrics = ['accuracy'])"
   ]
  },
  {
   "cell_type": "code",
   "execution_count": 83,
   "metadata": {},
   "outputs": [
    {
     "name": "stdout",
     "output_type": "stream",
     "text": [
      "Epoch 1/30\n",
      "60000/60000 [==============================] - 96s 2ms/step - loss: 0.4601 - accuracy: 0.8349\n",
      "Epoch 2/30\n",
      "60000/60000 [==============================] - 95s 2ms/step - loss: 0.3146 - accuracy: 0.8867\n",
      "Epoch 3/30\n",
      "60000/60000 [==============================] - 108s 2ms/step - loss: 0.2745 - accuracy: 0.8992\n",
      "Epoch 4/30\n",
      "60000/60000 [==============================] - 101s 2ms/step - loss: 0.2468 - accuracy: 0.9100\n",
      "Epoch 5/30\n",
      "60000/60000 [==============================] - 98s 2ms/step - loss: 0.2255 - accuracy: 0.9176\n",
      "Epoch 6/30\n",
      "60000/60000 [==============================] - 103s 2ms/step - loss: 0.2092 - accuracy: 0.9233\n",
      "Epoch 7/30\n",
      "60000/60000 [==============================] - 102s 2ms/step - loss: 0.1935 - accuracy: 0.9281\n",
      "Epoch 8/30\n",
      "60000/60000 [==============================] - 95s 2ms/step - loss: 0.1771 - accuracy: 0.9354\n",
      "Epoch 9/30\n",
      "60000/60000 [==============================] - 102s 2ms/step - loss: 0.1657 - accuracy: 0.9388\n",
      "Epoch 10/30\n",
      "60000/60000 [==============================] - 103s 2ms/step - loss: 0.1544 - accuracy: 0.9430\n",
      "Epoch 11/30\n",
      "60000/60000 [==============================] - 106s 2ms/step - loss: 0.1450 - accuracy: 0.9462\n",
      "Epoch 12/30\n",
      "60000/60000 [==============================] - 104s 2ms/step - loss: 0.1351 - accuracy: 0.9499\n",
      "Epoch 13/30\n",
      "60000/60000 [==============================] - 101s 2ms/step - loss: 0.1277 - accuracy: 0.9526\n",
      "Epoch 14/30\n",
      "60000/60000 [==============================] - ETA: 0s - loss: 0.1244 - accuracy: 0.95 - 103s 2ms/step - loss: 0.1244 - accuracy: 0.9542\n",
      "Epoch 15/30\n",
      "60000/60000 [==============================] - 101s 2ms/step - loss: 0.1138 - accuracy: 0.9577\n",
      "Epoch 16/30\n",
      "60000/60000 [==============================] - 96s 2ms/step - loss: 0.1073 - accuracy: 0.9590\n",
      "Epoch 17/30\n",
      "60000/60000 [==============================] - 109s 2ms/step - loss: 0.1035 - accuracy: 0.9619\n",
      "Epoch 18/30\n",
      "60000/60000 [==============================] - 98s 2ms/step - loss: 0.0966 - accuracy: 0.9647\n",
      "Epoch 19/30\n",
      "60000/60000 [==============================] - 108s 2ms/step - loss: 0.0899 - accuracy: 0.9670\n",
      "Epoch 20/30\n",
      "60000/60000 [==============================] - 96s 2ms/step - loss: 0.0875 - accuracy: 0.9672\n",
      "Epoch 21/30\n",
      "60000/60000 [==============================] - 94s 2ms/step - loss: 0.0801 - accuracy: 0.9698\n",
      "Epoch 22/30\n",
      "60000/60000 [==============================] - 95s 2ms/step - loss: 0.0777 - accuracy: 0.9709\n",
      "Epoch 23/30\n",
      "60000/60000 [==============================] - 95s 2ms/step - loss: 0.0750 - accuracy: 0.9718\n",
      "Epoch 24/30\n",
      "60000/60000 [==============================] - 100s 2ms/step - loss: 0.0711 - accuracy: 0.9736\n",
      "Epoch 25/30\n",
      "60000/60000 [==============================] - 96s 2ms/step - loss: 0.0649 - accuracy: 0.9760\n",
      "Epoch 26/30\n",
      "60000/60000 [==============================] - 80s 1ms/step - loss: 0.0652 - accuracy: 0.9759\n",
      "Epoch 27/30\n",
      "60000/60000 [==============================] - 85s 1ms/step - loss: 0.0609 - accuracy: 0.9782\n",
      "Epoch 28/30\n",
      "60000/60000 [==============================] - 83s 1ms/step - loss: 0.0601 - accuracy: 0.9771\n",
      "Epoch 29/30\n",
      "60000/60000 [==============================] - 83s 1ms/step - loss: 0.0552 - accuracy: 0.9793\n",
      "Epoch 30/30\n",
      "60000/60000 [==============================] - 86s 1ms/step - loss: 0.0560 - accuracy: 0.9794\n"
     ]
    }
   ],
   "source": [
    "iterations1 = model.fit(X_train, Y_train_one_hot, batch_size = 64, epochs = 30)"
   ]
  },
  {
   "cell_type": "code",
   "execution_count": 86,
   "metadata": {},
   "outputs": [
    {
     "data": {
      "image/png": "[encoded data removed]",
      "text/plain": [
       "<Figure size 432x288 with 1 Axes>"
      ]
     },
     "metadata": {},
     "output_type": "display_data"
    }
   ],
   "source": [
    "plt.plot(iterations1.history['loss'])\n",
    "plt.xlabel('Iterations', fontweight = \"bold\", fontsize = 12)\n",
    "plt.ylabel('Loss', fontweight = \"bold\", fontsize = 12)\n",
    "plt.title(\"Cost Function\", fontweight = \"bold\", fontsize = 16)\n",
    "plt.show()"
   ]
  },
  {
   "cell_type": "code",
   "execution_count": 87,
   "metadata": {},
   "outputs": [
    {
     "name": "stdout",
     "output_type": "stream",
     "text": [
      "10000/10000 [==============================] - 4s 382us/step\n"
     ]
    }
   ],
   "source": [
    "test_loss, test_acc = model.evaluate(X_test, Y_test_one_hot)"
   ]
  },
  {
   "cell_type": "code",
   "execution_count": 89,
   "metadata": {},
   "outputs": [
    {
     "name": "stdout",
     "output_type": "stream",
     "text": [
      "Test loss :  0.5390912225244566\n",
      "Test accuracy :  0.9036999940872192\n"
     ]
    }
   ],
   "source": [
    "print('Test loss : ', test_loss)\n",
    "print('Test accuracy : ', test_acc)"
   ]
  },
  {
   "cell_type": "code",
   "execution_count": 90,
   "metadata": {},
   "outputs": [],
   "source": [
    "test_predictions = model.predict_classes(X_test)"
   ]
  },
  {
   "cell_type": "code",
   "execution_count": 91,
   "metadata": {},
   "outputs": [
    {
     "name": "stdout",
     "output_type": "stream",
     "text": [
      "[[901   0  12  16   5   1  62   0   3   0]\n",
      " [  4 982   1   9   3   0   1   0   0   0]\n",
      " [ 45   1 831  10  32   0  80   0   1   0]\n",
      " [ 34   5   8 885  30   0  37   1   0   0]\n",
      " [  4   1  56  26 818   1  94   0   0   0]\n",
      " [  0   0   0   0   0 979   1  14   0   6]\n",
      " [162   0  37  16  47   0 734   0   4   0]\n",
      " [  0   0   0   0   0   7   0 966   0  27]\n",
      " [  9   0   2   4   2   2   6   3 971   1]\n",
      " [  0   0   0   0   0   6   1  23   0 970]]\n",
      "              precision    recall  f1-score   support\n",
      "\n",
      "           0       0.78      0.90      0.83      1000\n",
      "           1       0.99      0.98      0.99      1000\n",
      "           2       0.88      0.83      0.85      1000\n",
      "           3       0.92      0.89      0.90      1000\n",
      "           4       0.87      0.82      0.84      1000\n",
      "           5       0.98      0.98      0.98      1000\n",
      "           6       0.72      0.73      0.73      1000\n",
      "           7       0.96      0.97      0.96      1000\n",
      "           8       0.99      0.97      0.98      1000\n",
      "           9       0.97      0.97      0.97      1000\n",
      "\n",
      "    accuracy                           0.90     10000\n",
      "   macro avg       0.91      0.90      0.90     10000\n",
      "weighted avg       0.91      0.90      0.90     10000\n",
      "\n"
     ]
    }
   ],
   "source": [
    "conf_mat = confusion_matrix(y_true = Y_test, y_pred = test_predictions)\n",
    "print(conf_mat)\n",
    "print(classification_report(y_true = Y_test, y_pred = test_predictions))"
   ]
  },
  {
   "cell_type": "code",
   "execution_count": null,
   "metadata": {},
   "outputs": [],
   "source": []
  }
 ],
 "metadata": {
  "kernelspec": {
   "display_name": "Python 3",
   "language": "python",
   "name": "python3"
  },
  "language_info": {
   "codemirror_mode": {
    "name": "ipython",
    "version": 3
   },
   "file_extension": ".py",
   "mimetype": "text/x-python",
   "name": "python",
   "nbconvert_exporter": "python",
   "pygments_lexer": "ipython3",
   "version": "3.6.5"
  }
 },
 "nbformat": 4,
 "nbformat_minor": 2
}
